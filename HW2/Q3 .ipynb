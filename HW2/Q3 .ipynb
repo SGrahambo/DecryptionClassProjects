{
 "cells": [
  {
   "cell_type": "code",
   "execution_count": null,
   "metadata": {},
   "outputs": [
    {
     "ename": "",
     "evalue": "",
     "output_type": "error",
     "traceback": [
      "\u001b[1;31mRunning cells with 'c:\\Users\\sgrah\\AppData\\Local\\Programs\\Python\\Python311\\python.exe' requires the ipykernel package.\n",
      "\u001b[1;31mRun the following command to install 'ipykernel' into the Python environment. \n",
      "\u001b[1;31mCommand: 'c:/Users/sgrah/AppData/Local/Programs/Python/Python311/python.exe -m pip install ipykernel -U --user --force-reinstall'"
     ]
    }
   ],
   "source": [
    "import os\n",
    "import hashlib\n",
    "import base64\n",
    "\n",
    "def key_generation():\n",
    "    r = os.urandom(1)\n",
    "    secret_key = r + bytes([0b01100110, 0b01100110, 0b01100110, 0b01100110, 0b01100110, 0b01100110, 0b01100110, 0b01100110, 0b01100110, 0b01100110, 0b01100110, 0b01100110, 0b01100110, 0b01100110, 0b01100110, 0b01100110])\n",
    "    secret_key_str = ''.join(format(byte, '08b') for byte in secret_key)\n",
    "    return secret_key_str\n",
    "\n",
    "def sha3(input_data):\n",
    "    sha3_hash = hashlib.sha3_256(input_data.encode('latin-1')).digest()\n",
    "    return sha3_hash\n",
    "\n",
    "def words_to_binary(words):\n",
    "    binary_result = ''.join(format(ord(char), '08b') for word in words for char in (word + ' '))\n",
    "    \n",
    "    # Ensure the message space is exactly 512 bits\n",
    "    if len(binary_result) != 512:\n",
    "        print(\"Warning: The message length is not equal to 512 bits. It will be truncated or padded.\")\n",
    "    \n",
    "    # Truncate or pad to ensure a 512-bit message space\n",
    "    binary_result = binary_result[:512].ljust(512, '0')  \n",
    "    \n",
    "    return binary_result\n",
    "\n",
    "def binary_to_string(binary_data):\n",
    "    return ''.join(chr(int(binary_data[i:i+8], 2)) for i in range(0, len(binary_data), 8))\n",
    "\n",
    "def encrypt(message, secret_key):\n",
    "    secret_key_bytes = bytes(int(secret_key[i:i+8], 2) for i in range(0, len(secret_key), 8))\n",
    "    sha3_result = sha3(secret_key)\n",
    "    S1 = sha3_result[:128]\n",
    "    S2 = sha3_result[128:]\n",
    "    message_bytes = bytes(int(message[i:i+8], 2) for i in range(0, len(message), 8))\n",
    "    ciphertext = bytes(x ^ y for x, y in zip(S1 + S2, message_bytes))\n",
    "    ciphertext_base64 = base64.b64encode(ciphertext).decode('utf-8')\n",
    "    return ciphertext_base64\n",
    "\n",
    "secret_key = key_generation()\n",
    "english_words = input(\"Enter English words for the message (e.g., 'hello world'): \").split()\n",
    "message = words_to_binary(english_words)\n",
    "ciphertext_str = encrypt(message, secret_key)\n",
    "\n",
    "secret_key_str = binary_to_string(secret_key)\n",
    "\n",
    "print(\"Message (String):\", binary_to_string(message))\n",
    "print(\"Secret Key (String):\", secret_key_str)\n",
    "print(\"Ciphertext (Base64 encoded String):\", ciphertext_str)\n"
   ]
  }
 ],
 "metadata": {
  "kernelspec": {
   "display_name": "Python 3",
   "language": "python",
   "name": "python3"
  },
  "language_info": {
   "codemirror_mode": {
    "name": "ipython",
    "version": 3
   },
   "file_extension": ".py",
   "mimetype": "text/x-python",
   "name": "python",
   "nbconvert_exporter": "python",
   "pygments_lexer": "ipython3",
   "version": "3.11.2"
  }
 },
 "nbformat": 4,
 "nbformat_minor": 2
}
