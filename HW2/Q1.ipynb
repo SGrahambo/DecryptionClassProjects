{
 "cells": [
  {
   "cell_type": "code",
   "execution_count": 1,
   "metadata": {},
   "outputs": [
    {
     "name": "stdout",
     "output_type": "stream",
     "text": [
      "Please enter the string: a\n",
      "The result of SHA3-256 is : 80084bf2fba02475726feb2cab2d8215eab14bc6bdd8bfb2c8151257032ecd8b\n"
     ]
    }
   ],
   "source": [
    "import hashlib\n",
    "\n",
    "\n",
    "user_input = input(\"Please enter the string: \")\n",
    "\n",
    "\n",
    "sha3_256 = hashlib.sha3_256()\n",
    "sha3_256.update(user_input.encode('utf-8'))\n",
    "hash_result = sha3_256.hexdigest()\n",
    "\n",
    "\n",
    "print(\"The result of SHA3-256 is :\", hash_result)"
   ]
  },
  {
   "cell_type": "code",
   "execution_count": null,
   "metadata": {
    "collapsed": true
   },
   "outputs": [],
   "source": []
  }
 ],
 "metadata": {
  "kernelspec": {
   "display_name": "Python 3",
   "language": "python",
   "name": "python3"
  },
  "language_info": {
   "codemirror_mode": {
    "name": "ipython",
    "version": 3
   },
   "file_extension": ".py",
   "mimetype": "text/x-python",
   "name": "python",
   "nbconvert_exporter": "python",
   "pygments_lexer": "ipython3",
   "version": "3.6.3"
  }
 },
 "nbformat": 4,
 "nbformat_minor": 2
}
